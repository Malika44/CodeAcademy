{
  "nbformat": 4,
  "nbformat_minor": 0,
  "metadata": {
    "colab": {
      "provenance": [],
      "authorship_tag": "ABX9TyPT5jh1UJ0S9ibRjG/Q72uD",
      "include_colab_link": true
    },
    "kernelspec": {
      "name": "python3",
      "display_name": "Python 3"
    },
    "language_info": {
      "name": "python"
    }
  },
  "cells": [
    {
      "cell_type": "markdown",
      "metadata": {
        "id": "view-in-github",
        "colab_type": "text"
      },
      "source": [
        "<a href=\"https://colab.research.google.com/github/Malika44/CodeAcademy/blob/main/week2.ipynb\" target=\"_parent\"><img src=\"https://colab.research.google.com/assets/colab-badge.svg\" alt=\"Open In Colab\"/></a>"
      ]
    },
    {
      "cell_type": "code",
      "execution_count": null,
      "metadata": {
        "colab": {
          "base_uri": "https://localhost:8080/"
        },
        "id": "fQA2ayFTrT4c",
        "outputId": "2c20857a-8864-405c-9d29-f8adc61c4624"
      },
      "outputs": [
        {
          "output_type": "stream",
          "name": "stdout",
          "text": [
            "Area of the rectanglar 1 is: 30 and for 2 is: 24\n"
          ]
        }
      ],
      "source": [
        "#try to always write comments about your code\n",
        "#to let others know why you write and the aim for it\n",
        "#we can enter a function inside another function\n",
        "def rArea(sideLength,sideWidth):\n",
        "    area = sideLength*sideWidth\n",
        "    return area\n",
        "n1= rArea(5,6)\n",
        "n2 =rArea(4,6)\n",
        "print(f\"Area of the rectanglar 1 is: {n1} and for 2 is: {n2}\")"
      ]
    },
    {
      "cell_type": "code",
      "source": [
        "#local variables\n",
        "def main():\n",
        "  sum = 0\n",
        "  for i in range (11):\n",
        "    square = i * i\n",
        "    sum += square\n",
        "  print(square, sum)"
      ],
      "metadata": {
        "id": "iNZ3-Q2KtDDd"
      },
      "execution_count": null,
      "outputs": []
    },
    {
      "cell_type": "code",
      "source": [
        "#when we use a global variable we have to declare its global inside the function\n",
        "#void function beacause we are not returning a value\n",
        "balance = 10000\n",
        "\n",
        "def de(deposite):\n",
        "  global balance\n",
        "  balance += deposite\n",
        "de(1000)\n",
        "print(\"new balance is:\", balance)\n"
      ],
      "metadata": {
        "colab": {
          "base_uri": "https://localhost:8080/"
        },
        "id": "glj8Psj9vfx7",
        "outputId": "c9a706ab-1342-4c0e-ccb4-1aa7e70f3322"
      },
      "execution_count": null,
      "outputs": [
        {
          "output_type": "stream",
          "name": "stdout",
          "text": [
            "new balance is: 11000\n"
          ]
        }
      ]
    },
    {
      "cell_type": "code",
      "source": [
        "def sum(n1,n2):\n",
        "  return n1+n2\n",
        "x= sum(5,8)\n",
        "print(sum is')"
      ],
      "metadata": {
        "id": "F3M0oCeK3zHI"
      },
      "execution_count": null,
      "outputs": []
    },
    {
      "cell_type": "code",
      "source": [
        "height = int(input(\"Enter the height of the triangle: \"))\n",
        "\n",
        "for i in range(1, height + 1):\n",
        "    spaces = height - i\n",
        "    stars = 2 * i - 1\n",
        "    print(\" \" * spaces + \"*\" * stars)\n"
      ],
      "metadata": {
        "colab": {
          "base_uri": "https://localhost:8080/"
        },
        "id": "VSZ5IT7IhLN_",
        "outputId": "97b71520-e347-4f2a-a3b9-c85c794d6597"
      },
      "execution_count": null,
      "outputs": [
        {
          "output_type": "stream",
          "name": "stdout",
          "text": [
            "Enter the height of the triangle: 4\n",
            "   *\n",
            "  ***\n",
            " *****\n",
            "*******\n"
          ]
        }
      ]
    },
    {
      "cell_type": "code",
      "source": [
        "height = int(input(\"Enter the height of the triangle: \"))\n",
        "\n",
        "print(\"\\nSymmetric Triangle:\")\n",
        "for i in range(1, height + 1):\n",
        "    spaces = height - i\n",
        "    stars = 2 * i - 1\n",
        "    print(\" \" * spaces + \"*\" * stars)\n",
        "\n",
        "print(\"\\nLeft-Justified Triangle:\")\n",
        "for i in range(1, height + 1):\n",
        "    print(\"*\" * i)\n",
        "\n",
        "print(\"\\nRight-Justified Triangle:\")\n",
        "for i in range(1, height + 1):\n",
        "    spaces = height - i\n",
        "    print(\" \" * spaces + \"*\" * i)\n"
      ],
      "metadata": {
        "colab": {
          "base_uri": "https://localhost:8080/"
        },
        "id": "htSfoGQzhWhO",
        "outputId": "9b6aa09e-2896-4e94-af0a-88b4ed6ff524"
      },
      "execution_count": null,
      "outputs": [
        {
          "output_type": "stream",
          "name": "stdout",
          "text": [
            "Enter the height of the triangle: 3\n",
            "\n",
            "Symmetric Triangle:\n",
            "  *\n",
            " ***\n",
            "*****\n",
            "\n",
            "Left-Justified Triangle:\n",
            "*\n",
            "**\n",
            "***\n",
            "\n",
            "Right-Justified Triangle:\n",
            "  *\n",
            " **\n",
            "***\n"
          ]
        }
      ]
    },
    {
      "cell_type": "code",
      "source": [
        "n = int(input(\"Enter the size of the matrix (n x n): \"))\n",
        "matrix = []\n",
        "\n",
        "print(\"Enter the matrix rows:\")\n",
        "\n",
        "for _ in range(n):\n",
        "    row = list(map(int, input().split()))\n",
        "    matrix.append(row)\n",
        "\n",
        "primary_sum = 0\n",
        "secondary_sum = 0\n",
        "\n",
        "for i in range(n):\n",
        "    primary_sum += matrix[i][i]\n",
        "    secondary_sum += matrix[i][n - 1 - i]\n",
        "\n",
        "difference = abs(primary_sum - secondary_sum)\n",
        "print(\"Absolute Diagonal Difference:\", difference)\n"
      ],
      "metadata": {
        "colab": {
          "base_uri": "https://localhost:8080/"
        },
        "id": "1K3d5McNjvkC",
        "outputId": "783571e2-b8c8-4c9b-823f-82e784f5b3a3"
      },
      "execution_count": null,
      "outputs": [
        {
          "output_type": "stream",
          "name": "stdout",
          "text": [
            "Enter the size of the matrix (n x n): 3\n",
            "Enter the matrix rows:\n",
            "1 2 3 \n",
            "1 4 5\n",
            "1 4 5\n",
            "Absolute Diagonal Difference: 2\n"
          ]
        }
      ]
    },
    {
      "cell_type": "code",
      "source": [
        "#append\n",
        "m = [1,2,3,4]\n",
        "m.append(4)\n",
        "print(m)\n",
        "m.append(int(input(\"Enter a value:\")))\n",
        "print(m)"
      ],
      "metadata": {
        "colab": {
          "base_uri": "https://localhost:8080/"
        },
        "id": "TRWEY-ybPK2F",
        "outputId": "883f1c84-dcb3-477d-93f6-76397d9e5cda"
      },
      "execution_count": null,
      "outputs": [
        {
          "output_type": "stream",
          "name": "stdout",
          "text": [
            "[1, 2, 3, 4, 4]\n",
            "Enter a value:6\n",
            "[1, 2, 3, 4, 4, 6]\n"
          ]
        }
      ]
    },
    {
      "cell_type": "code",
      "source": [
        "m = [1,2,3,4]\n",
        "m.insert(4,6) #inser(index, value)\n",
        "print(m)"
      ],
      "metadata": {
        "colab": {
          "base_uri": "https://localhost:8080/"
        },
        "id": "x8oLO4wQP3cp",
        "outputId": "71d1ae0d-73e6-4afe-e67d-c38d6ca37a68"
      },
      "execution_count": null,
      "outputs": [
        {
          "output_type": "stream",
          "name": "stdout",
          "text": [
            "[1, 2, 3, 4, 6]\n"
          ]
        }
      ]
    },
    {
      "cell_type": "code",
      "source": [
        "#finding element in list\n",
        "m = [1,2,3,4]\n",
        "if 2 in m:\n",
        "  print(\"Found\")\n",
        "else:\n",
        "  print(\"Not found\")\n",
        "#using index\n",
        "friends = [\"Harry\", \"Emily\", \"Bob\", \"Cari\", \"Emily\"]\n",
        "n = friends.index(\"Emily\") # Sets n to 1\n",
        "print(n)\n",
        "#remove using pop(index of element we want to remove)\n",
        "x =friends.pop(0)\n",
        "print(x)\n",
        "print(friends)\n",
        "#remove using remove(value of element we want to remove)\n",
        "friends.remove(\"Bob\")\n",
        "print(friends)"
      ],
      "metadata": {
        "colab": {
          "base_uri": "https://localhost:8080/"
        },
        "id": "zZuUDdWrQyj1",
        "outputId": "e4ac32dd-887e-4948-9cd0-008646208c9d"
      },
      "execution_count": null,
      "outputs": [
        {
          "output_type": "stream",
          "name": "stdout",
          "text": [
            "Found\n",
            "1\n",
            "Harry\n",
            "['Emily', 'Bob', 'Cari', 'Emily']\n",
            "['Emily', 'Cari', 'Emily']\n"
          ]
        }
      ]
    },
    {
      "cell_type": "code",
      "source": [
        "#concatenation\n",
        "m = [1,2,3,4]\n",
        "r = [2,5,6,7]\n",
        "n = m + r\n",
        "print(n)\n",
        "#replication\n",
        "l = r *2\n",
        "print(l)"
      ],
      "metadata": {
        "colab": {
          "base_uri": "https://localhost:8080/"
        },
        "id": "IJLibRn9TuIM",
        "outputId": "c58a3fcd-4577-4e0a-9b98-936c1c4cad54"
      },
      "execution_count": null,
      "outputs": [
        {
          "output_type": "stream",
          "name": "stdout",
          "text": [
            "[1, 2, 3, 4, 2, 5, 6, 7]\n",
            "[2, 5, 6, 7, 2, 5, 6, 7]\n"
          ]
        }
      ]
    },
    {
      "cell_type": "code",
      "source": [
        "#equility not equility\n",
        "print([1, 4, 9] == [1, 4, 9])\n",
        "print([1, 4, 9] == [1, 2, 9])\n",
        "print([1, 4, 9] != [1, 2, 9])"
      ],
      "metadata": {
        "colab": {
          "base_uri": "https://localhost:8080/"
        },
        "id": "m4WTVktLUyWK",
        "outputId": "e8b7731c-2373-4459-bad5-8b118590a4be"
      },
      "execution_count": null,
      "outputs": [
        {
          "output_type": "stream",
          "name": "stdout",
          "text": [
            "True\n",
            "False\n",
            "True\n"
          ]
        }
      ]
    },
    {
      "cell_type": "code",
      "source": [
        "#sum / max / min\n",
        "print(sum([1,4,9,16]))\n",
        "print(max ([1,4,9,16]))\n",
        "print(min([0,1,2]))"
      ],
      "metadata": {
        "colab": {
          "base_uri": "https://localhost:8080/"
        },
        "id": "EsSt6SNWVX_X",
        "outputId": "0f505df0-6ab6-4a76-d963-161d8cd60c76"
      },
      "execution_count": null,
      "outputs": [
        {
          "output_type": "stream",
          "name": "stdout",
          "text": [
            "30\n",
            "16\n",
            "0\n"
          ]
        }
      ]
    },
    {
      "cell_type": "code",
      "source": [
        "#sort\n",
        "val = [1,9,5]\n",
        "val.sort()\n",
        "print(val)"
      ],
      "metadata": {
        "colab": {
          "base_uri": "https://localhost:8080/"
        },
        "id": "I5Tt-EAaWL_f",
        "outputId": "466b4722-de15-4034-a146-35f0e03c515e"
      },
      "execution_count": null,
      "outputs": [
        {
          "output_type": "stream",
          "name": "stdout",
          "text": [
            "[1, 5, 9]\n"
          ]
        }
      ]
    },
    {
      "cell_type": "code",
      "source": [
        "#copying list\n",
        "p =[1,2,3]\n",
        "p = m\n",
        "m.pop(0)\n",
        "print(p)\n",
        "print(m)\n"
      ],
      "metadata": {
        "colab": {
          "base_uri": "https://localhost:8080/"
        },
        "id": "dzDP3btJZ57g",
        "outputId": "ca8450f8-95f3-4ae6-9566-9e09ad0b6ca5"
      },
      "execution_count": null,
      "outputs": [
        {
          "output_type": "stream",
          "name": "stdout",
          "text": [
            "[3, 4]\n",
            "[3, 4]\n"
          ]
        }
      ]
    },
    {
      "cell_type": "code",
      "source": [
        "#copying list to make it refer to another refernce in the memory\n",
        "p =[1,2,3]\n",
        "m = list(p)\n",
        "p.pop(0)\n",
        "print(p)\n",
        "print(m) #Doesn't affect to what we did in list p bcz it list function but the copy in anew place in the memory"
      ],
      "metadata": {
        "colab": {
          "base_uri": "https://localhost:8080/"
        },
        "id": "--PAoqEzaz3J",
        "outputId": "e9ab6e61-a3c9-4089-af8b-77a4295ecf9c"
      },
      "execution_count": null,
      "outputs": [
        {
          "output_type": "stream",
          "name": "stdout",
          "text": [
            "[2, 3]\n",
            "[1, 2, 3]\n"
          ]
        }
      ]
    },
    {
      "cell_type": "code",
      "source": [
        "#Slicing\n",
        "p = [1,5,8,9,4]\n",
        "r = p[1:4]\n",
        "print(r)"
      ],
      "metadata": {
        "colab": {
          "base_uri": "https://localhost:8080/"
        },
        "id": "w0pX2kLPcfiH",
        "outputId": "f91062fb-b905-4a49-a1df-b8c9ad77ac79"
      },
      "execution_count": null,
      "outputs": [
        {
          "output_type": "stream",
          "name": "stdout",
          "text": [
            "[5, 8, 9]\n"
          ]
        }
      ]
    },
    {
      "cell_type": "code",
      "source": [
        "#slice adding and replacing\n",
        "friends = [\"Harry\", \"Emily\", \"Bob\", \"Cari\", \"Emily\"]\n",
        "friends[:2] = [\"Ahmed\" , \"mm\", \"rr\"]# change o and 1 index values in the list  but here \"rr\" will be added and Bob will be moved to the next element\n",
        "print(friends)"
      ],
      "metadata": {
        "colab": {
          "base_uri": "https://localhost:8080/"
        },
        "id": "Y_DZZlzrdXg_",
        "outputId": "0da3545d-d10a-44c0-d539-37d5f522a662"
      },
      "execution_count": null,
      "outputs": [
        {
          "output_type": "stream",
          "name": "stdout",
          "text": [
            "['Ahmed', 'mm', 'rr', 'Bob', 'Cari', 'Emily']\n"
          ]
        }
      ]
    },
    {
      "cell_type": "code",
      "source": [
        "#filling a list\n",
        "n = 5\n",
        "values = []\n",
        "for i in range(n):\n",
        "  values.append(i * 10)\n",
        "print(values)\n",
        "#combining list element\n",
        "result = 0.0\n",
        "for element in values :\n",
        "  result +=  element\n",
        "print(result)\n",
        "#combining list element strings\n",
        "res = \"\"\n",
        "names = [\"Harry\", \"Emily\", \"Bob\", \"Cari\", \"Emily\"]\n",
        "for element in names :\n",
        "  res = res + \" \" + element\n",
        "print(res)"
      ],
      "metadata": {
        "colab": {
          "base_uri": "https://localhost:8080/"
        },
        "id": "7R-vok2SfqjY",
        "outputId": "d5ee39f7-4351-4257-a047-ce8c99e9485c"
      },
      "execution_count": null,
      "outputs": [
        {
          "output_type": "stream",
          "name": "stdout",
          "text": [
            "[0, 10, 20, 30, 40]\n",
            "100.0\n",
            " Harry Emily Bob Cari Emily\n"
          ]
        }
      ]
    },
    {
      "cell_type": "code",
      "source": [
        "#Linear Search /Sequential\n",
        "list1 = [1,3,5,7,0,8,6,5,4]\n",
        "value = 7\n",
        "for i in range(len(list1)):\n",
        "  if list1[i] == value:\n",
        "    print(i)"
      ],
      "metadata": {
        "colab": {
          "base_uri": "https://localhost:8080/"
        },
        "id": "IrWC8Z6LvzlZ",
        "outputId": "ad7b8b6d-3881-45df-9078-3d052940cc27"
      },
      "execution_count": null,
      "outputs": [
        {
          "output_type": "stream",
          "name": "stdout",
          "text": [
            "3\n"
          ]
        }
      ]
    },
    {
      "cell_type": "code",
      "source": [
        "#Table\n",
        "table1 = [[1,2,3],[2,3,4],[3,5,7]]\n",
        "print(table1)\n",
        "#accessing element in the list using listname [row][col] output element\n",
        "x= table1[2][2] #accessing element in the list using listname [row][col] output element\n",
        "print(x)"
      ],
      "metadata": {
        "colab": {
          "base_uri": "https://localhost:8080/"
        },
        "id": "QwSCxWWPzyuX",
        "outputId": "628e93fb-3711-4233-f628-ff78c608ec11"
      },
      "execution_count": null,
      "outputs": [
        {
          "output_type": "stream",
          "name": "stdout",
          "text": [
            "[[1, 2, 3], [2, 3, 4], [3, 5, 7]]\n",
            "7\n"
          ]
        }
      ]
    },
    {
      "cell_type": "code",
      "source": [
        "#Syntax: Dictionaries {key (unique): value , key :value}\n",
        "dict = {\"malika\":\"bbb\", \"jjjj\":\"yyyy\"}\n",
        "num = {123 :222 , 345:555}\n",
        "r1 = {1:[1,2,3],2:[3,5,7]}\n",
        "print(dict)\n",
        "print(num)\n",
        "print(r1)\n",
        "#Accessing Dictionary Values []\n",
        "print(\"content of malika dictionary is :\",dict[\"malika\"]) #dictionaryname[key of the value I want to access]\n",
        "#• To find out whether a key is present in the dictionary, use the in (or not in) operator:\n",
        "if \"jjjj\" in dict :\n",
        "  print(\"content of jjjj dictionary is\", dict[\"jjjj\"])\n",
        "else :\n",
        "  print(\"content is not in  jjjj dictionary is.\")"
      ],
      "metadata": {
        "colab": {
          "base_uri": "https://localhost:8080/"
        },
        "id": "hEpOuFjM0ei7",
        "outputId": "3436c279-0bc7-4d43-d698-9a6e74a899bf"
      },
      "execution_count": null,
      "outputs": [
        {
          "output_type": "stream",
          "name": "stdout",
          "text": [
            "{'malika': 'bbb', 'jjjj': 'yyyy'}\n",
            "{123: 222, 345: 555}\n",
            "{1: [1, 2, 3], 2: [3, 5, 7]}\n",
            "content of malika dictionary is : bbb\n",
            "content of jjjj dictionary is yyyy\n"
          ]
        }
      ]
    },
    {
      "cell_type": "code",
      "source": [
        "#Default Keys\n",
        "#• Instead of using the in operator, you can simply call the get() method and pass the key and a default value\n",
        "#• The default value is returned if there is no matching key\n",
        "num = {123 :222 , 345:555}\n",
        "print(num.get(123, 411)) #411 default value any"
      ],
      "metadata": {
        "colab": {
          "base_uri": "https://localhost:8080/"
        },
        "id": "BL_w5-I-8GrQ",
        "outputId": "d1d51a40-d77a-49f7-c997-9c26c2db8d07"
      },
      "execution_count": null,
      "outputs": [
        {
          "output_type": "stream",
          "name": "stdout",
          "text": [
            "222\n"
          ]
        }
      ]
    },
    {
      "cell_type": "code",
      "source": [
        "#Adding/Modifying Items\n",
        "num = {123 :222 , 345:555}\n",
        "num[123] =234\n",
        "print(num[123])"
      ],
      "metadata": {
        "colab": {
          "base_uri": "https://localhost:8080/"
        },
        "id": "UQtQ_fxT84jP",
        "outputId": "55634a6f-c2dc-415b-b0f9-350f22ac62aa"
      },
      "execution_count": null,
      "outputs": [
        {
          "output_type": "stream",
          "name": "stdout",
          "text": [
            "234\n"
          ]
        }
      ]
    },
    {
      "cell_type": "code",
      "source": [
        "#Adding New Elements Dynamically\n",
        "#Sometimes you may not know which items will be contained in the dictionary when it’s created\n",
        "#1- You can create an empty dictionary like this:\n",
        "mal = {}\n",
        "#2- and add new items as needed:\n",
        "mal [12] = 11\n",
        "mal [34] = 55\n",
        "mal [44] = 99\n",
        "print(mal)\n",
        "#Removing Elements\n",
        "# To remove an item from a dictionary, call the pop() method with the key as the argument:\n",
        "mal.pop(12) #This removes the entire item, both the key and its associated value\n",
        "print(mal)\n"
      ],
      "metadata": {
        "colab": {
          "base_uri": "https://localhost:8080/"
        },
        "id": "wlQhdUQQ9qvI",
        "outputId": "13d37851-ad2f-4413-b1bc-06bb008881e2"
      },
      "execution_count": null,
      "outputs": [
        {
          "output_type": "stream",
          "name": "stdout",
          "text": [
            "{12: 11, 34: 55, 44: 99}\n",
            "{34: 55, 44: 99}\n"
          ]
        }
      ]
    },
    {
      "cell_type": "code",
      "source": [
        "#Traversing a Dictionary\n",
        "# You can iterate over the individual keys in a dictionary using a for loop\n",
        "num = {123 :222 , 345:555}\n",
        "for key in num :# print all keys in num\n",
        "  print(key)"
      ],
      "metadata": {
        "colab": {
          "base_uri": "https://localhost:8080/"
        },
        "id": "K4B60Hl9_gOE",
        "outputId": "37a61e0d-a80b-4369-b687-4b4461e76f77"
      },
      "execution_count": null,
      "outputs": [
        {
          "output_type": "stream",
          "name": "stdout",
          "text": [
            "123\n",
            "345\n"
          ]
        }
      ]
    },
    {
      "cell_type": "code",
      "source": [
        "#Python allows you to iterate over the items in a dictionary using the items() method\n",
        "#• more efficient than iterating over the keys and then looking up the value of each key\n",
        "#• The items() method returns a sequence of tuples that contain the keys and values of all items\n",
        "num = {123 :222 , 345:555}\n",
        "for item in num.items() :\n",
        "  print(item[0], item[1])"
      ],
      "metadata": {
        "colab": {
          "base_uri": "https://localhost:8080/"
        },
        "id": "R4NEcoVTAewF",
        "outputId": "b577dae1-8958-4ee5-c22b-890ada4fe77d"
      },
      "execution_count": null,
      "outputs": [
        {
          "output_type": "stream",
          "name": "stdout",
          "text": [
            "123 222\n",
            "345 555\n"
          ]
        }
      ]
    },
    {
      "cell_type": "code",
      "source": [
        "#Tuples\n",
        "# Tuples are very similar to lists, but they are immutable (i.e., unchangeable)\n",
        "# Tuples are written with round brackets\n",
        "t1 = (1, 2, 3)\n",
        "t2 = ('a', 'a', 'c', 'd')# we can have duplicate values\n",
        "t3 = (200, 'A', [4, 5], 3.2)\n",
        "print(t1)\n",
        "print(t2)\n",
        "print(t3)\n",
        "print(t1[2])#can use index\n",
        "print(t2[:3])# we can slice\n",
        "m = (1,4) *3\n",
        "print(m)#Be repeated\n",
        "t4 = t1 +t2\n",
        "print(t4)\n",
        "#Be passed to a function, but will result in pass-by-value and not pass-by-reference outcome since it is immutable\n",
        "#Be iterated over"
      ],
      "metadata": {
        "colab": {
          "base_uri": "https://localhost:8080/"
        },
        "id": "NwDsQcBTBf1L",
        "outputId": "7becb791-5c66-4c32-d7c3-7e1d8cabfcdb"
      },
      "execution_count": null,
      "outputs": [
        {
          "output_type": "stream",
          "name": "stdout",
          "text": [
            "(1, 2, 3)\n",
            "('a', 'a', 'c', 'd')\n",
            "(200, 'A', [4, 5], 3.2)\n",
            "3\n",
            "('a', 'a', 'c')\n",
            "(1, 4, 1, 4, 1, 4)\n",
            "(1, 2, 3, 'a', 'a', 'c', 'd')\n"
          ]
        }
      ]
    },
    {
      "cell_type": "code",
      "source": [
        "# A function is defined outside of a class\n",
        "def greet(name):\n",
        "    return f\"Hello, {name}!\"\n",
        "\n",
        "# You can call it directly\n",
        "print(greet(\"Malika\"))\n"
      ],
      "metadata": {
        "colab": {
          "base_uri": "https://localhost:8080/"
        },
        "id": "eHctQUy2apRw",
        "outputId": "bcb6c8a8-3428-4c01-e0fb-22bf6cb25f31"
      },
      "execution_count": null,
      "outputs": [
        {
          "output_type": "stream",
          "name": "stdout",
          "text": [
            "Hello, Malika!\n"
          ]
        }
      ]
    },
    {
      "cell_type": "code",
      "source": [
        "# A method is defined inside a class and takes 'self' as its first parameter\n",
        "class Greeter:\n",
        "    def greet(self, name):\n",
        "        return f\"Hello, {name}!\"\n",
        "\n",
        "# You create an object of the class to call the method\n",
        "my_greeter = Greeter()\n",
        "print(my_greeter.greet(\"Bob\"))\n"
      ],
      "metadata": {
        "colab": {
          "base_uri": "https://localhost:8080/"
        },
        "id": "6Obsm_vbauvs",
        "outputId": "a594c41b-5d18-4a95-80de-edc2993a5d21"
      },
      "execution_count": null,
      "outputs": [
        {
          "output_type": "stream",
          "name": "stdout",
          "text": [
            "Hello, Bob!\n"
          ]
        }
      ]
    },
    {
      "cell_type": "code",
      "source": [
        "#wednesday\n",
        "#Set\n",
        "#Create empty set\n",
        "em = set()\n",
        "print(type(em))"
      ],
      "metadata": {
        "colab": {
          "base_uri": "https://localhost:8080/"
        },
        "id": "xfQ2XOgGGGcw",
        "outputId": "f1456a84-5c4a-4191-e27e-1a76db77efea"
      },
      "execution_count": null,
      "outputs": [
        {
          "output_type": "stream",
          "name": "stdout",
          "text": [
            "<class 'set'>\n"
          ]
        }
      ]
    },
    {
      "cell_type": "code",
      "source": [
        "#covert list to set (use set function)\n",
        "set1 = set([1,2,3])\n",
        "print(type(set1))\n",
        "print((set1))\n",
        "t1= [1,2,3]\n",
        "set2 = set(t1)\n",
        "print(type(set2))\n",
        "print((set2))"
      ],
      "metadata": {
        "colab": {
          "base_uri": "https://localhost:8080/"
        },
        "id": "l1kDdoS2GpNl",
        "outputId": "963aeb54-c646-4670-9698-9f3257f4f8aa"
      },
      "execution_count": null,
      "outputs": [
        {
          "output_type": "stream",
          "name": "stdout",
          "text": [
            "<class 'set'>\n",
            "{1, 2, 3}\n",
            "<class 'set'>\n",
            "{1, 2, 3}\n"
          ]
        }
      ]
    },
    {
      "cell_type": "code",
      "source": [
        "#Update and add method\n",
        "set4 = {1,2,3}\n",
        "set3 = set()\n",
        "set3.update(set4)\n",
        "set3.add(\"mm\")\n",
        "print(set3)"
      ],
      "metadata": {
        "colab": {
          "base_uri": "https://localhost:8080/"
        },
        "id": "zWhgTXmlICh3",
        "outputId": "0292a68d-1138-4611-c7b7-722cc5048e7f"
      },
      "execution_count": null,
      "outputs": [
        {
          "output_type": "stream",
          "name": "stdout",
          "text": [
            "{1, 2, 3, 'mm'}\n"
          ]
        }
      ]
    },
    {
      "cell_type": "code",
      "source": [
        "#set operation\n",
        "a= {1,2,3,5}\n",
        "b= {2,4,7,5}\n",
        "s1 = a | b\n",
        "print(f\"Union a | b {s1}\")\n",
        "s2 = a & b\n",
        "print(f\"Intersaction a $ b {s2}\")\n",
        "s3 = a - b\n",
        "print(f\"Diff a - b {s3}\")\n",
        "s4 = a ^ b\n",
        "print(f\"symmetric diff a ^ b {s4}\")"
      ],
      "metadata": {
        "colab": {
          "base_uri": "https://localhost:8080/"
        },
        "id": "eYnLlJ4aJeB8",
        "outputId": "5cc781b3-ddd8-49a7-e936-6c45896d3e82"
      },
      "execution_count": null,
      "outputs": [
        {
          "output_type": "stream",
          "name": "stdout",
          "text": [
            "Union a | b {1, 2, 3, 4, 5, 7}\n",
            "Intersaction a $ b {2, 5}\n",
            "Diff a - b {1, 3}\n",
            "symmetric diff a ^ b {1, 3, 4, 7}\n"
          ]
        }
      ]
    },
    {
      "cell_type": "code",
      "source": [
        "#opp\n",
        "#classes start with Capital letter\n",
        "class Kids:\n",
        "  def __init__ (self , name, age):\n",
        "    self.name = name\n",
        "    self.age = age\n",
        "  def play(self ,games, place):\n",
        "    return f\"{self.name} says wooh playing time with {games}  {place}\"\n",
        "kid = Kids(\"Ruba\",10 )\n",
        "kid.play(\"ipad\", \"at home\")# here we pass the argument that we include in the method (play)\n"
      ],
      "metadata": {
        "colab": {
          "base_uri": "https://localhost:8080/",
          "height": 36
        },
        "id": "GyKhCTrPNbIu",
        "outputId": "fe7528d2-da66-4da6-9a38-f6e9c04b6487"
      },
      "execution_count": null,
      "outputs": [
        {
          "output_type": "execute_result",
          "data": {
            "text/plain": [
              "'Ruba says wooh playing time with ipad  at home'"
            ],
            "application/vnd.google.colaboratory.intrinsic+json": {
              "type": "string"
            }
          },
          "metadata": {},
          "execution_count": 22
        }
      ]
    },
    {
      "cell_type": "code",
      "source": [
        "#opp\n",
        "#classes start with Capital letter\n",
        "#don't foreget Self in all places we use attrubites\n",
        "class Car:\n",
        "  def __init__(self, make, model, year):\n",
        "    self.make = make\n",
        "    self.model = model\n",
        "    self.year = year\n",
        "  def display_details(self,name):\n",
        "    return f\"{name} car is {self.make} model  {self.model} and the year of buying is {self.year}\"\n",
        "car1= Car(\"tOYOTA\",\"V1\", 2022)\n",
        "car2= Car(\"crola\", \"V2\", 2023)\n",
        "car3= Car(\"BMW\", \"V3\", 2021)\n",
        "car1.display_details(\"Malika\")\n",
        "car2.display_details(\"Sister\")\n",
        "car3.display_details(\"Mum\")"
      ],
      "metadata": {
        "colab": {
          "base_uri": "https://localhost:8080/",
          "height": 36
        },
        "id": "2dhODZbairuw",
        "outputId": "d9f6cf2f-600b-4543-d0fc-e28fc6b2ce93"
      },
      "execution_count": null,
      "outputs": [
        {
          "output_type": "execute_result",
          "data": {
            "text/plain": [
              "'Mum car is BMW model  V3 and the year of buying is 2021'"
            ],
            "application/vnd.google.colaboratory.intrinsic+json": {
              "type": "string"
            }
          },
          "metadata": {},
          "execution_count": 32
        }
      ]
    },
    {
      "cell_type": "code",
      "source": [
        "#opp\n",
        "#classes start with Capital letter\n",
        "#don't foreget Self in all places we use attrubites\n",
        "class Car:\n",
        "  def __init__(self, make, model, year):\n",
        "    self.make = make\n",
        "    self.model = model\n",
        "    self.year = year\n",
        "  def display_details(self,name):\n",
        "    return f\"{name} car is {self.make} model  {self.model} and the year of buying is {self.year}\"\n",
        "car1= Car(\"tOYOTA\",\"V1\", 2022)\n",
        "car2= Car(\"crola\", \"V2\", 2023)\n",
        "car3= Car(\"BMW\", \"V3\", 2021)\n",
        "car1.display_details(\"Malika\")\n",
        "car2.display_details(\"Sister\")\n",
        "car3.display_details(\"Mum\")"
      ],
      "metadata": {
        "id": "hJoYWEQjjaLV"
      },
      "execution_count": null,
      "outputs": []
    },
    {
      "cell_type": "code",
      "source": [
        "class BankAccount:\n",
        "  def __init__(self, Owner , accountNumber, expiry, balance = 0):\n",
        "    self.Owner = Owner\n",
        "    self.accountNumber = accountNumber\n",
        "    self.expiry = expiry\n",
        "    self.balance = balance\n",
        "  def deposite(self, amount):\n",
        "    if amount > 0:\n",
        "      self.balance += amount\n",
        "      return f\"You have deposite {amount} your new balance is {self.balance}\"\n",
        "    else:\n",
        "      return \"Deposite amount must be pos\"\n",
        "  def withdraw(self, amount):\n",
        "    if amount > 0:\n",
        "      if amount <= self.balance:\n",
        "        self.balance -= amount\n",
        "        return f\"You have withdraw {amount} your new balance is {self.balance}\"\n",
        "    else:\n",
        "      return\"withdraw amount must be pos\"\n",
        "  def getBalance (self):\n",
        "    return self.balance\n",
        "account = BankAccount(\"Malika\", 44444,233, 10000)\n",
        "print(account.deposite(1000))\n",
        "print(account.withdraw(400))\n",
        "print(account.getBalance())"
      ],
      "metadata": {
        "colab": {
          "base_uri": "https://localhost:8080/"
        },
        "id": "5zPRbrWvj-RI",
        "outputId": "215e9e84-f063-4786-de13-48295d900a01"
      },
      "execution_count": null,
      "outputs": [
        {
          "output_type": "stream",
          "name": "stdout",
          "text": [
            "You have deposite 1000 your new balance is 11000\n",
            "You have withdraw 400 your new balance is 10600\n",
            "10600\n"
          ]
        }
      ]
    },
    {
      "cell_type": "code",
      "source": [
        "#Encapsulation\n",
        "#putting a data in a class and hide this data from other classes or entire program.\n",
        "#It called Black box as well. We can’t see what is happening in said this box."
      ],
      "metadata": {
        "id": "KcicwWNmC7P7"
      },
      "execution_count": null,
      "outputs": []
    },
    {
      "cell_type": "code",
      "source": [
        "#Encapsulation\n",
        "#Setters & getters functions: difference\n",
        "# Setters functions are using for change the values and the properties of Objects.\n",
        "# Getters function are using for read and fetch the values and the properties of Objects.\n",
        "# Validate the state of the object before making any changes."
      ],
      "metadata": {
        "id": "QLctKeNVDWNb"
      },
      "execution_count": null,
      "outputs": []
    },
    {
      "cell_type": "code",
      "source": [
        "#Setters & getters functions:\n",
        "def get_name():#getter\n",
        "  return name\n",
        "def set_name(new_name):#setter\n",
        "  name = new_name\n",
        "#Another Example\n",
        "class Person:\n",
        "    def __init__(self, name, age):\n",
        "        self.name = name    # Private attribute\n",
        "        self.age = age      # Private attribute\n",
        "\n",
        "    # Getter for name\n",
        "    def get_name(self):\n",
        "        return self.name\n",
        "\n",
        "    # Setter for name\n",
        "    def set_name(self, new_name):\n",
        "        self.name = new_name\n",
        "\n",
        "    # Getter for age\n",
        "    def get_age(self):\n",
        "        return self.age\n",
        "\n",
        "    # Setter for age\n",
        "    def set_age(self, new_age):\n",
        "        if new_age >= 0:     # Small validation\n",
        "            self.age = new_age\n",
        "        else:\n",
        "            print(\"Age cannot be negative.\")\n",
        "\n",
        "# Example usage\n",
        "person = Person(\"Ali\", 25)\n",
        "\n",
        "print(person.get_name())  # Output: Ali\n",
        "print(person.get_age())   # Output: 25\n",
        "\n",
        "person.set_name(\"Omar\")\n",
        "person.set_age(30)\n",
        "\n",
        "print(person.get_name())  # Output: Omar\n",
        "print(person.get_age())   # Output: 30\n"
      ],
      "metadata": {
        "colab": {
          "base_uri": "https://localhost:8080/"
        },
        "id": "FmxZw6nrDqwU",
        "outputId": "0e84445a-8ecb-4b79-9506-beceab8067a2"
      },
      "execution_count": null,
      "outputs": [
        {
          "output_type": "stream",
          "name": "stdout",
          "text": [
            "Ali\n",
            "25\n",
            "Omar\n",
            "30\n"
          ]
        }
      ]
    }
  ]
}