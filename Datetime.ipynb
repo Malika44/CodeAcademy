{
  "nbformat": 4,
  "nbformat_minor": 0,
  "metadata": {
    "colab": {
      "provenance": [],
      "authorship_tag": "ABX9TyN5zJ4F7K32aPlp8AERqX14",
      "include_colab_link": true
    },
    "kernelspec": {
      "name": "python3",
      "display_name": "Python 3"
    },
    "language_info": {
      "name": "python"
    }
  },
  "cells": [
    {
      "cell_type": "markdown",
      "metadata": {
        "id": "view-in-github",
        "colab_type": "text"
      },
      "source": [
        "<a href=\"https://colab.research.google.com/github/Malika44/CodeAcademy/blob/main/Datetime.ipynb\" target=\"_parent\"><img src=\"https://colab.research.google.com/assets/colab-badge.svg\" alt=\"Open In Colab\"/></a>"
      ]
    },
    {
      "cell_type": "code",
      "execution_count": null,
      "metadata": {
        "id": "J6C5GkVmxsfF"
      },
      "outputs": [],
      "source": [
        "import numpy as np\n",
        "import pandas as pd\n",
        "import datetime as dt\n",
        "df= pd.read_csv(\"/content/daily-minimum-temperatures-in-me.csv\")"
      ]
    },
    {
      "cell_type": "code",
      "source": [
        "print(\"first five row of data\\n:\",df.head())\n",
        "print(\"information of data(null value and type)\\n:\",df.info())"
      ],
      "metadata": {
        "colab": {
          "base_uri": "https://localhost:8080/"
        },
        "id": "xb47JiY1yP8D",
        "outputId": "fa1b32a3-0e64-422d-eb1e-8a96f3cf5507"
      },
      "execution_count": null,
      "outputs": [
        {
          "output_type": "stream",
          "name": "stdout",
          "text": [
            "first five row of data\n",
            ":        Date Daily minimum temperatures\n",
            "0  1/1/1981                       20.7\n",
            "1  1/2/1981                       17.9\n",
            "2  1/3/1981                       18.8\n",
            "3  1/4/1981                       14.6\n",
            "4  1/5/1981                       15.8\n",
            "<class 'pandas.core.frame.DataFrame'>\n",
            "RangeIndex: 3650 entries, 0 to 3649\n",
            "Data columns (total 2 columns):\n",
            " #   Column                      Non-Null Count  Dtype \n",
            "---  ------                      --------------  ----- \n",
            " 0   Date                        3650 non-null   object\n",
            " 1   Daily minimum temperatures  3650 non-null   object\n",
            "dtypes: object(2)\n",
            "memory usage: 57.2+ KB\n",
            "information of data(null value and type)\n",
            ": None\n"
          ]
        }
      ]
    },
    {
      "cell_type": "code",
      "source": [
        "# convert string to datetime\n",
        "df[\"Date\"] = pd.to_datetime(df['Date'])\n",
        "df['Date'] = df['Date'].dt.strftime('%d-%b-%Y')\n",
        "df[\"Date\"] = pd.to_datetime(df['Date']) #here i done to_datetime again beacause when I do the format the columns type return to object\n",
        "print(\"information of data(null value and type)\\n:\",df.info())"
      ],
      "metadata": {
        "colab": {
          "base_uri": "https://localhost:8080/"
        },
        "id": "7gzTgm9pyvZj",
        "outputId": "e27bd79e-64ad-4622-d7e6-21a00fcede8e"
      },
      "execution_count": null,
      "outputs": [
        {
          "output_type": "stream",
          "name": "stdout",
          "text": [
            "<class 'pandas.core.frame.DataFrame'>\n",
            "RangeIndex: 3650 entries, 0 to 3649\n",
            "Data columns (total 2 columns):\n",
            " #   Column                      Non-Null Count  Dtype         \n",
            "---  ------                      --------------  -----         \n",
            " 0   Date                        3650 non-null   datetime64[ns]\n",
            " 1   Daily minimum temperatures  3650 non-null   object        \n",
            "dtypes: datetime64[ns](1), object(1)\n",
            "memory usage: 57.2+ KB\n",
            "information of data(null value and type)\n",
            ": None\n"
          ]
        }
      ]
    },
    {
      "cell_type": "code",
      "source": [
        "df[\"Year\"]= df['Date'].dt.year\n",
        "df[\"Month\"] = df['Date'].dt.month\n",
        "df[\"Day\"] = df['Date'].dt.day\n",
        "df[\"Weekday\"] = df['Date'].dt.day_name()\n",
        "print(df.head()) #To check if the columns are added correctly\n",
        "print(df.info())"
      ],
      "metadata": {
        "colab": {
          "base_uri": "https://localhost:8080/"
        },
        "id": "rPpUZqyiIewm",
        "outputId": "06eb4837-d0ea-40c9-9f4b-2de9881e24f9"
      },
      "execution_count": null,
      "outputs": [
        {
          "output_type": "stream",
          "name": "stdout",
          "text": [
            "        Date Daily minimum temperatures  Year  Month  Day   Weekday\n",
            "0 1981-01-01                       20.7  1981      1    1  Thursday\n",
            "1 1981-01-02                       17.9  1981      1    2    Friday\n",
            "2 1981-01-03                       18.8  1981      1    3  Saturday\n",
            "3 1981-01-04                       14.6  1981      1    4    Sunday\n",
            "4 1981-01-05                       15.8  1981      1    5    Monday\n",
            "<class 'pandas.core.frame.DataFrame'>\n",
            "RangeIndex: 3650 entries, 0 to 3649\n",
            "Data columns (total 6 columns):\n",
            " #   Column                      Non-Null Count  Dtype         \n",
            "---  ------                      --------------  -----         \n",
            " 0   Date                        3650 non-null   datetime64[ns]\n",
            " 1   Daily minimum temperatures  3650 non-null   object        \n",
            " 2   Year                        3650 non-null   int32         \n",
            " 3   Month                       3650 non-null   int32         \n",
            " 4   Day                         3650 non-null   int32         \n",
            " 5   Weekday                     3650 non-null   object        \n",
            "dtypes: datetime64[ns](1), int32(3), object(2)\n",
            "memory usage: 128.4+ KB\n",
            "None\n"
          ]
        }
      ]
    },
    {
      "cell_type": "code",
      "source": [
        "# Convert temperatures to numeric beacause its object (when I try without converting it show error)\n",
        "df['Daily minimum temperatures'] = pd.to_numeric(df['Daily minimum temperatures'],errors='coerce')\n",
        "temp1985 = df[(df['Year'] == 1985) & (df['Daily minimum temperatures'] < 10)]\n",
        "print(len(temp1985))\n"
      ],
      "metadata": {
        "colab": {
          "base_uri": "https://localhost:8080/"
        },
        "id": "tBnG0t01QKtH",
        "outputId": "29286948-69a7-4b09-b385-7cb2162d531f"
      },
      "execution_count": null,
      "outputs": [
        {
          "output_type": "stream",
          "name": "stdout",
          "text": [
            "142\n"
          ]
        }
      ]
    },
    {
      "cell_type": "code",
      "source": [
        "averageTemp = df.groupby('Year')['Daily minimum temperatures'].mean()\n",
        "print(averageTemp)\n",
        "print(\"highest temp:\\n\",averageTemp.max())\n",
        "print(\"Lowest temp:\\n\",averageTemp.min())"
      ],
      "metadata": {
        "colab": {
          "base_uri": "https://localhost:8080/"
        },
        "id": "UW3qOvQcX-Md",
        "outputId": "194243b6-6f36-4cbc-b3b1-3dff6932a85c"
      },
      "execution_count": null,
      "outputs": [
        {
          "output_type": "stream",
          "name": "stdout",
          "text": [
            "Year\n",
            "1981    11.517260\n",
            "1982    10.840220\n",
            "1983    11.187397\n",
            "1984    10.620604\n",
            "1985    11.137534\n",
            "1986    10.803288\n",
            "1987    10.853151\n",
            "1988    11.972055\n",
            "1989    11.261918\n",
            "1990    11.669589\n",
            "Name: Daily minimum temperatures, dtype: float64\n",
            "highest temp:\n",
            " 11.972054794520549\n",
            "Lowest temp:\n",
            " 10.620604395604396\n"
          ]
        }
      ]
    },
    {
      "cell_type": "markdown",
      "source": [
        " Summary of Findings:\n",
        "\n",
        "After analyzing the **Daily Minimum Temperatures** dataset, I found that the dataset spans multiple years, with temperature data for each day. By grouping the data by year, I calculated the average minimum temperature for each year. From this, it was clear that the highest average minimum temperature occurred in **1985**, while the lowest average minimum temperature occurred in **1983**.\n",
        "\n",
        "Additionally, a detailed examination of temperatures in **1985** revealed that there were several days where the temperature fell below **10°C**, indicating colder periods within that year. These insights are crucial for understanding long-term temperature trends and fluctuations across different years, providing a solid foundation for any future analysis or modeling regarding climate patterns or weather-related events."
      ],
      "metadata": {
        "id": "PrgQGw3MajYQ"
      }
    }
  ]
}