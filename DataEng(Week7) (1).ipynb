{
 "cells": [
  {
   "cell_type": "code",
   "execution_count": 6,
   "id": "5f47e858-ec83-4c1a-945d-9c3a7caaa98b",
   "metadata": {},
   "outputs": [
    {
     "name": "stdout",
     "output_type": "stream",
     "text": [
      "Collecting mysql-connector-python\n",
      "  Downloading mysql_connector_python-9.3.0-cp312-cp312-win_amd64.whl.metadata (7.7 kB)\n",
      "Downloading mysql_connector_python-9.3.0-cp312-cp312-win_amd64.whl (16.4 MB)\n",
      "   ---------------------------------------- 0.0/16.4 MB ? eta -:--:--\n",
      "   -- ------------------------------------- 1.0/16.4 MB 7.2 MB/s eta 0:00:03\n",
      "   -------- ------------------------------- 3.4/16.4 MB 9.6 MB/s eta 0:00:02\n",
      "   -------------- ------------------------- 5.8/16.4 MB 10.1 MB/s eta 0:00:02\n",
      "   ------------------- -------------------- 8.1/16.4 MB 10.3 MB/s eta 0:00:01\n",
      "   -------------------------- ------------- 10.7/16.4 MB 10.7 MB/s eta 0:00:01\n",
      "   --------------------------------- ------ 13.9/16.4 MB 11.5 MB/s eta 0:00:01\n",
      "   ---------------------------------------  16.3/16.4 MB 11.9 MB/s eta 0:00:01\n",
      "   ---------------------------------------- 16.4/16.4 MB 11.4 MB/s eta 0:00:00\n",
      "Installing collected packages: mysql-connector-python\n",
      "Successfully installed mysql-connector-python-9.3.0\n",
      "Note: you may need to restart the kernel to use updated packages.\n"
     ]
    }
   ],
   "source": [
    "pip install mysql-connector-python"
   ]
  },
  {
   "cell_type": "code",
   "execution_count": 11,
   "id": "3999bfae-6922-4bc9-9e2e-d458a8e099ed",
   "metadata": {},
   "outputs": [
    {
     "name": "stderr",
     "output_type": "stream",
     "text": [
      "C:\\Users\\jinan\\AppData\\Local\\Temp\\ipykernel_6924\\1777251685.py:21: UserWarning: pandas only supports SQLAlchemy connectable (engine/connection) or database string URI or sqlite3 DBAPI2 connection. Other DBAPI2 objects are not tested. Please consider using SQLAlchemy.\n",
      "  df = pd.read_sql(query, conn)\n"
     ]
    },
    {
     "name": "stdout",
     "output_type": "stream",
     "text": [
      "Updated credit_limit to NULL for customer_id 1 to 10\n",
      "     customer_id                             name  \\\n",
      "0              1                         Raytheon   \n",
      "1              2               Plains GP Holdings   \n",
      "2              3                 US Foods Holding   \n",
      "3              4                           AbbVie   \n",
      "4              5                          Centene   \n",
      "..           ...                              ...   \n",
      "314          315                 Norfolk Southern   \n",
      "315          316     Reinsurance Group of America   \n",
      "316          317  Public Service Enterprise Group   \n",
      "317          318            Cameron International   \n",
      "318          319                       BB&T Corp.   \n",
      "\n",
      "                                       address  \\\n",
      "0                514 W Superior St, Kokomo, IN   \n",
      "1             2515 Bloyd Ave, Indianapolis, IN   \n",
      "2          8768 N State Rd 37, Bloomington, IN   \n",
      "3         6445 Bay Harbor Ln, Indianapolis, IN   \n",
      "4               4019 W 3Rd St, Bloomington, IN   \n",
      "..                                         ...   \n",
      "314  1618 Footloose St, Bangalore - India, Kar   \n",
      "315  1619 Footloose Rd, Bangalore - India, Kar   \n",
      "316  1621 Gargon! Blvd, Bangalore - India, Kar   \n",
      "317                  1667 2010 St, Batavia, IL   \n",
      "318                  1668 Chong Tao, Beijing,    \n",
      "\n",
      "                              website  credit_limit  \n",
      "0             http://www.raytheon.com           NaN  \n",
      "1    http://www.plainsallamerican.com           NaN  \n",
      "2              http://www.usfoods.com           NaN  \n",
      "3               http://www.abbvie.com           NaN  \n",
      "4              http://www.centene.com           NaN  \n",
      "..                                ...           ...  \n",
      "314             http://www.nscorp.com         900.0  \n",
      "315              http://www.rgare.com         900.0  \n",
      "316               http://www.pseg.com         600.0  \n",
      "317              http://www.c-a-m.com         200.0  \n",
      "318                http://www.bbt.com         200.0  \n",
      "\n",
      "[319 rows x 5 columns]\n"
     ]
    }
   ],
   "source": [
    "import mysql.connector\n",
    "import pandas as pd\n",
    "\n",
    "\n",
    "\n",
    "# Connection configuration\n",
    "config = {\n",
    "    'user': 'root',                # use your MySQL username\n",
    "    'password': 'root',  # use your MySQL password\n",
    "    'host': 'localhost',\n",
    "    'database': 'sales'\n",
    "}\n",
    "\n",
    "# Establish connection\n",
    "conn = mysql.connector.connect(**config)\n",
    "\n",
    "# Query to fetch data\n",
    "query = \"SELECT * FROM CUSTOMERS\"\n",
    "\n",
    "# Load into pandas DataFrame\n",
    "df = pd.read_sql(query, conn)\n",
    "cursor = conn.cursor()\n",
    "\n",
    "# Update credit_limit to NULL for customer_id 1 to 10\n",
    "query = \"\"\"\n",
    "    UPDATE CUSTOMERS\n",
    "    SET credit_limit = NULL\n",
    "    WHERE customer_id BETWEEN 1 AND 10;\n",
    "\"\"\"\n",
    "\n",
    "cursor.execute(query)\n",
    "conn.commit()\n",
    "cursor.close()\n",
    "conn.close()\n",
    "\n",
    "print(\"Updated credit_limit to NULL for customer_id 1 to 10\")\n",
    "\n",
    "# Close connection\n",
    "conn.close()\n",
    "\n",
    "# Show the DataFrame\n",
    "print(df)\n",
    "from sklearn.impute import SimpleImputer\n",
    "\n",
    "imputer = SimpleImputer(strategy='mean')  \n",
    "df['credit_limit'] = imputer.fit_transform((df[['credit_limit']]))\n",
    "print(head.df())"
   ]
  }
 ],
 "metadata": {
  "kernelspec": {
   "display_name": "Python 3 (ipykernel)",
   "language": "python",
   "name": "python3"
  },
  "language_info": {
   "codemirror_mode": {
    "name": "ipython",
    "version": 3
   },
   "file_extension": ".py",
   "mimetype": "text/x-python",
   "name": "python",
   "nbconvert_exporter": "python",
   "pygments_lexer": "ipython3",
   "version": "3.12.7"
  }
 },
 "nbformat": 4,
 "nbformat_minor": 5
}
