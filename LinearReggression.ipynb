{
 "cells": [
  {
   "cell_type": "code",
   "execution_count": null,
   "id": "12ab266d-9a25-48dd-ba90-c15b6271d8ae",
   "metadata": {},
   "outputs": [],
   "source": []
  }
 ],
 "metadata": {
  "kernelspec": {
   "display_name": "",
   "name": ""
  },
  "language_info": {
   "name": ""
  }
 },
 "nbformat": 4,
 "nbformat_minor": 5
}
