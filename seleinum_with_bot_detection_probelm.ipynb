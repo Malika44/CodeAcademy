{
  "nbformat": 4,
  "nbformat_minor": 0,
  "metadata": {
    "colab": {
      "provenance": [],
      "include_colab_link": true
    },
    "kernelspec": {
      "name": "python3",
      "display_name": "Python 3"
    },
    "language_info": {
      "name": "python"
    }
  },
  "cells": [
    {
      "cell_type": "markdown",
      "metadata": {
        "id": "view-in-github",
        "colab_type": "text"
      },
      "source": [
        "<a href=\"https://colab.research.google.com/github/Malika44/CodeAcademy/blob/main/seleinum_with_bot_detection_probelm.ipynb\" target=\"_parent\"><img src=\"https://colab.research.google.com/assets/colab-badge.svg\" alt=\"Open In Colab\"/></a>"
      ]
    },
    {
      "cell_type": "code",
      "execution_count": null,
      "metadata": {
        "id": "JjWBFzW7niJV"
      },
      "outputs": [],
      "source": [
        "from selenium import webdriver\n",
        "from selenium.webdriver.firefox.service import Service\n",
        "from webdriver_manager.firefox import GeckoDriverManager\n",
        "from selenium.webdriver.common.by import By\n",
        "from selenium.webdriver.common.keys import Keys\n",
        "import time\n",
        "# Setup Firefox driver with user-agent to reduce bot detection\n",
        "options = webdriver.FirefoxOptions()\n",
        "options.set_preference(\"general.useragent.override\",\"Mozilla/5.0 (Windows NT 10.0; Win64; x64) AppleWebKit/537.36 (KHTML, like Gecko) Chrome/91.0.4472.124 Safari/537.36\")\n",
        "service = Service(GeckoDriverManager().install())\n",
        "driver = webdriver.Firefox(service=service, options=options)\n",
        "try:\n",
        "    # Open GeeksforGeeks homepage\n",
        "    driver.get(\"https://www.geeksforgeeks.org\")\n",
        "    # Find the search input box (top right)\n",
        "    search_box = driver.find_element(By.NAME, \"s\")\n",
        "    # Type 'selenium' and press Enter\n",
        "    search_box.send_keys(\"selenium\" + Keys.RETURN)\n",
        "    # Wait for 2 seconds to let results load\n",
        "    time.sleep(2)\n",
        "    # Print the page title of the search results\n",
        "    print(driver.title)\n",
        "finally:\n",
        "    driver.quit()"
      ]
    }
  ]
}