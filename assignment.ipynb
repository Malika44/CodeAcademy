{
  "nbformat": 4,
  "nbformat_minor": 0,
  "metadata": {
    "colab": {
      "provenance": [],
      "authorship_tag": "ABX9TyMwOsfY7MHw5NZ45mF5wYzX",
      "include_colab_link": true
    },
    "kernelspec": {
      "name": "python3",
      "display_name": "Python 3"
    },
    "language_info": {
      "name": "python"
    }
  },
  "cells": [
    {
      "cell_type": "markdown",
      "metadata": {
        "id": "view-in-github",
        "colab_type": "text"
      },
      "source": [
        "<a href=\"https://colab.research.google.com/github/Malika44/CodeAcademy/blob/main/assignment.ipynb\" target=\"_parent\"><img src=\"https://colab.research.google.com/assets/colab-badge.svg\" alt=\"Open In Colab\"/></a>"
      ]
    },
    {
      "cell_type": "code",
      "execution_count": null,
      "metadata": {
        "colab": {
          "base_uri": "https://localhost:8080/"
        },
        "id": "tsxgmpRDV6Dj",
        "outputId": "decf13c2-fd4d-4535-f4de-c0aaf5ffd65b"
      },
      "outputs": [
        {
          "output_type": "stream",
          "name": "stdout",
          "text": [
            "Total number of countries: 10\n",
            "Country with the highest population: China (1439323776)\n",
            "Country with the lowest population: Germany (83783942)\n",
            "Average population: 432768169.30\n",
            "\n",
            "Top 5 countries by population:\n",
            "China: 1439323776\n",
            "India: 1380004385\n",
            "USA: 331002651\n",
            "Indonesia: 273523615\n",
            "Brazil: 212559417\n"
          ]
        }
      ],
      "source": [
        "files ='countries_population.txt'\n",
        "import pandas as pd\n",
        "\n",
        "def read_and_process_file(files):\n",
        "    countries = {}\n",
        "    with open(files, 'r') as file:\n",
        "        for line in file:\n",
        "            line = line.strip()\n",
        "            if not line:\n",
        "                continue\n",
        "            parts = line.split(',')\n",
        "            if len(parts) != 2:\n",
        "                print(f\"Skipping bad line: {line}\")\n",
        "                continue\n",
        "            country, population = parts\n",
        "            country = country.strip()\n",
        "            population = int(population.strip())\n",
        "            countries[country] = population\n",
        "    return countries\n",
        "\n",
        "def main():\n",
        "    filename = \"countries_population.txt\"\n",
        "    countries = read_and_process_file(filename)\n",
        "    total_countries = len(countries)\n",
        "    highest_population_country = max(countries, key=countries.get)\n",
        "    lowest_population_country = min(countries, key=countries.get)\n",
        "    average_population = sum(countries.values()) / total_countries\n",
        "    sorted_countries = sorted(countries.items(), key=lambda x: x[1], reverse=True)\n",
        "    print(f\"Total number of countries: {total_countries}\")\n",
        "    print(f\"Country with the highest population: {highest_population_country} ({countries[highest_population_country]})\")\n",
        "    print(f\"Country with the lowest population: {lowest_population_country} ({countries[lowest_population_country]})\")\n",
        "    print(f\"Average population: {average_population:.2f}\")\n",
        "    print(\"\\nTop 5 countries by population:\")\n",
        "    for country, population in sorted_countries[:5]:\n",
        "        print(f\"{country}: {population}\")\n",
        "    high_population_countries = [country for country, pop in countries.items() if pop > 500_000_000]\n",
        "\n",
        "    with open('high_population_countries.txt', 'w') as output_file:\n",
        "        for country in high_population_countries:\n",
        "            output_file.write(country + '\\n')\n",
        "\n",
        "if __name__ == \"__main__\":\n",
        "    main()"
      ]
    }
  ]
}